{
 "cells": [
  {
   "cell_type": "code",
   "execution_count": null,
   "metadata": {},
   "outputs": [],
   "source": []
  },
  {
   "cell_type": "code",
   "execution_count": 1,
   "metadata": {
    "executionInfo": {
     "elapsed": 458,
     "status": "ok",
     "timestamp": 1624585728025,
     "user": {
      "displayName": "Peter Hlavaty",
      "photoUrl": "",
      "userId": "07889617686998860112"
     },
     "user_tz": -120
    },
    "id": "enplmcsCp_ha"
   },
   "outputs": [],
   "source": [
    "#from google.colab import drive\n",
    "#drive.mount('/content/drive')"
   ]
  },
  {
   "cell_type": "code",
   "execution_count": 2,
   "metadata": {
    "colab": {
     "base_uri": "https://localhost:8080/"
    },
    "executionInfo": {
     "elapsed": 1228,
     "status": "ok",
     "timestamp": 1624585729775,
     "user": {
      "displayName": "Peter Hlavaty",
      "photoUrl": "",
      "userId": "07889617686998860112"
     },
     "user_tz": -120
    },
    "id": "RX0fHSr3HI_6",
    "outputId": "261416af-abee-4d49-e21d-b224b5916ac4"
   },
   "outputs": [],
   "source": [
    "#!git clone https://github.com/rezer0dai/dlppoh\n",
    "#!git clone https://github.com/fgolemo/gym-ergojr\n",
    "#!git clone https://github.com/mahyaret/gym-panda\n",
    "\n",
    "#!pip install -e gym-ergojr\n",
    "#!pip install -e gym-panda\n",
    "#!pip install timebudget"
   ]
  },
  {
   "cell_type": "code",
   "execution_count": 3,
   "metadata": {
    "executionInfo": {
     "elapsed": 9,
     "status": "ok",
     "timestamp": 1624585729776,
     "user": {
      "displayName": "Peter Hlavaty",
      "photoUrl": "",
      "userId": "07889617686998860112"
     },
     "user_tz": -120
    },
    "id": "unEYPXkVJdGE"
   },
   "outputs": [],
   "source": [
    "#import sys\n",
    "#sys.path.append(\"dlppoh\")\n",
    "#sys.path.append(\"gym-ergojr\")\n",
    "#sys.path.append(\"gym-panda\")\n",
    "#sys.path.append(\"/content/dlppoh\")\n",
    "#sys.path.append(\"/content/gym-ergojr\")\n",
    "#sys.path.append(\"/content/gym-panda\")"
   ]
  },
  {
   "cell_type": "code",
   "execution_count": 4,
   "metadata": {
    "executionInfo": {
     "elapsed": 465,
     "status": "ok",
     "timestamp": 1624585730234,
     "user": {
      "displayName": "Peter Hlavaty",
      "photoUrl": "",
      "userId": "07889617686998860112"
     },
     "user_tz": -120
    },
    "id": "yrsg1IhfFP7p"
   },
   "outputs": [
    {
     "data": {
      "text/plain": [
       "<torch.autograd.anomaly_mode.set_detect_anomaly at 0x7f959c23fa30>"
      ]
     },
     "execution_count": 4,
     "metadata": {},
     "output_type": "execute_result"
    }
   ],
   "source": [
    "import torch\n",
    "torch.set_default_dtype(torch.float32)\n",
    "torch.autograd.set_detect_anomaly(True)"
   ]
  },
  {
   "cell_type": "code",
   "execution_count": 5,
   "metadata": {
    "executionInfo": {
     "elapsed": 32,
     "status": "ok",
     "timestamp": 1624585730236,
     "user": {
      "displayName": "Peter Hlavaty",
      "photoUrl": "",
      "userId": "07889617686998860112"
     },
     "user_tz": -120
    },
    "id": "3pRLFULDFP75"
   },
   "outputs": [],
   "source": [
    "import numpy as np\n",
    "import random, timebudget"
   ]
  },
  {
   "cell_type": "code",
   "execution_count": 6,
   "metadata": {
    "executionInfo": {
     "elapsed": 31,
     "status": "ok",
     "timestamp": 1624585730237,
     "user": {
      "displayName": "Peter Hlavaty",
      "photoUrl": "",
      "userId": "07889617686998860112"
     },
     "user_tz": -120
    },
    "id": "_02ho3HYFP77"
   },
   "outputs": [],
   "source": [
    "import config"
   ]
  },
  {
   "cell_type": "code",
   "execution_count": 7,
   "metadata": {
    "executionInfo": {
     "elapsed": 24,
     "status": "ok",
     "timestamp": 1624585730241,
     "user": {
      "displayName": "Peter Hlavaty",
      "photoUrl": "",
      "userId": "07889617686998860112"
     },
     "user_tz": -120
    },
    "id": "pucIFKuNFP8A"
   },
   "outputs": [],
   "source": [
    "from timebudget import timebudget\n",
    "timebudget.set_quiet()"
   ]
  },
  {
   "cell_type": "code",
   "execution_count": 8,
   "metadata": {
    "executionInfo": {
     "elapsed": 492,
     "status": "ok",
     "timestamp": 1624585731109,
     "user": {
      "displayName": "Peter Hlavaty",
      "photoUrl": "",
      "userId": "07889617686998860112"
     },
     "user_tz": -120
    },
    "id": "S0lyZUDMFP8M"
   },
   "outputs": [],
   "source": [
    "from dlppoh import *"
   ]
  },
  {
   "cell_type": "code",
   "execution_count": 9,
   "metadata": {
    "colab": {
     "base_uri": "https://localhost:8080/"
    },
    "id": "mS6swup7FP8X",
    "outputId": "363fab3d-baf9-4268-c901-9c60006dddbc",
    "scrolled": true
   },
   "outputs": [
    {
     "name": "stderr",
     "output_type": "stream",
     "text": [
      "/home/rezer0/.local/lib/python3.8/site-packages/pytorch_lightning/metrics/__init__.py:43: LightningDeprecationWarning: `pytorch_lightning.metrics.*` module has been renamed to `torchmetrics.*` and split off to its own package (https://github.com/PyTorchLightning/metrics) since v1.3 and will be removed in v1.5\n",
      "  rank_zero_deprecation(\n"
     ]
    }
   ],
   "source": [
    "from lightning import get_ready, DLPPOHLightning"
   ]
  },
  {
   "cell_type": "code",
   "execution_count": 10,
   "metadata": {},
   "outputs": [
    {
     "name": "stderr",
     "output_type": "stream",
     "text": [
      "/home/rezer0/.local/lib/python3.8/site-packages/pytorch_lightning/trainer/connectors/accelerator_connector.py:556: UserWarning: You requested distributed training on GPUs, but none is available, so we set backend to `ddp_cpu`.\n",
      "  rank_zero_warn(\n",
      "/home/rezer0/.local/lib/python3.8/site-packages/pytorch_lightning/trainer/connectors/accelerator_connector.py:563: UserWarning: You are running on single node with no parallelization, so distributed has no effect.\n",
      "  rank_zero_warn('You are running on single node with no parallelization, so distributed has no effect.')\n",
      "GPU available: False, used: False\n",
      "TPU available: False, using: 0 TPU cores\n"
     ]
    },
    {
     "name": "stdout",
     "output_type": "stream",
     "text": [
      "\n",
      "LOW LEVEL POLICY: \n",
      " [[205, '<- memory_size;', 1024, '<- batch_size;', 10, '<- optim_epochs;', 2048, '<- optim_batch_size;', 4000, '<- optim_pool_size;', 7, '<- recalc_delay;', 3, '<- sync_delta_a;', 2, '<- sync_delta_c;', 10, '<- learning_delay;', 10, '<- learning_repeat;', 0.0003, '<- lr_actor;', 0.05, '<- tau_actor;', 0.05, '<- tau_critic;', 0.2, '<- ppo_eps;', False, '<- natural;', False, '<- mean_only;']]\n",
      "appended module actor_0_explorer_lowpi 0\n",
      "appended module critic_0_explorer_lowpi 1\n",
      "appended module critic_1_explorer_lowpi 2\n",
      "appended module encoder_explorer_lowpi 3\n",
      "appended module goal_encoder_explorer_lowpi 4\n",
      "appended module actor_0_target_lowpi 5\n",
      "appended module critic_0_target_lowpi 6\n",
      "appended module encoder_target_lowpi 7\n",
      "appended module goal_encoder_target_lowpi 8\n",
      "\n",
      "HIGH LEVEL: \n",
      " [[200, '<- memory_size;', 4096, '<- batch_size;', 10, '<- optim_epochs;', 8192, '<- optim_batch_size;', 4000, '<- optim_pool_size;', 3, '<- recalc_delay;', 3, '<- sync_delta_a;', 2, '<- sync_delta_c;', 40, '<- learning_delay;', 80, '<- learning_repeat;', 0.0001, '<- lr_actor;', 0.07, '<- tau_actor;', 0.05, '<- tau_critic;', 0.2, '<- ppo_eps;', False, '<- natural;', False, '<- mean_only;']]\n",
      "appended module actor_0_explorer_highpi 9\n",
      "appended module encoder_explorer_highpi 10\n",
      "appended module goal_encoder_explorer_highpi 11\n",
      "appended module actor_0_target_highpi 12\n",
      "appended module encoder_target_highpi 13\n",
      "appended module goal_encoder_target_highpi 14\n"
     ]
    },
    {
     "name": "stderr",
     "output_type": "stream",
     "text": [
      "\n",
      "  | Name  | Type      | Params\n",
      "------------------------------------\n",
      "0 | model | FullModel | 737 K \n",
      "------------------------------------\n",
      "737 K     Trainable params\n",
      "135       Non-trainable params\n",
      "737 K     Total params\n",
      "2.949     Total estimated model params size (MB)\n",
      "/home/rezer0/.local/lib/python3.8/site-packages/pytorch_lightning/trainer/data_loading.py:102: UserWarning: The dataloader, train dataloader, does not have many workers which may be a bottleneck. Consider increasing the value of the `num_workers` argument` (try 4 which is the number of cpus on this machine) in the `DataLoader` init to improve performance.\n",
      "  rank_zero_warn(\n",
      "Widget Javascript not detected.  It may not be installed or enabled properly.\n"
     ]
    },
    {
     "data": {
      "application/vnd.jupyter.widget-view+json": {
       "model_id": "b3a1b7d621b7494686f73772a3b3334b"
      }
     },
     "metadata": {},
     "output_type": "display_data"
    },
    {
     "name": "stdout",
     "output_type": "stream",
     "text": [
      "\n",
      "LOW LEVEL POLICY: \n",
      " [[205, '<- memory_size;', 1024, '<- batch_size;', 10, '<- optim_epochs;', 2048, '<- optim_batch_size;', 4000, '<- optim_pool_size;', 7, '<- recalc_delay;', 3, '<- sync_delta_a;', 2, '<- sync_delta_c;', 10, '<- learning_delay;', 10, '<- learning_repeat;', 0.0003, '<- lr_actor;', 0.05, '<- tau_actor;', 0.05, '<- tau_critic;', 0.2, '<- ppo_eps;', False, '<- natural;', False, '<- mean_only;']]\n",
      "\n",
      "HIGH LEVEL: \n",
      " [[200, '<- memory_size;', 4096, '<- batch_size;', 10, '<- optim_epochs;', 8192, '<- optim_batch_size;', 4000, '<- optim_pool_size;', 3, '<- recalc_delay;', 3, '<- sync_delta_a;', 2, '<- sync_delta_c;', 40, '<- learning_delay;', 80, '<- learning_repeat;', 0.0001, '<- lr_actor;', 0.07, '<- tau_actor;', 0.05, '<- tau_critic;', 0.2, '<- ppo_eps;', False, '<- natural;', False, '<- mean_only;']]\n",
      "WE ARE HERE TO RESET\n",
      "lot of gyms\n",
      "gyms startedv4_REACHER_PANDA_hl_gym_dock_0_dlppoh_dock_15147 create REACHER_PANDA\n"
     ]
    },
    {
     "name": "stderr",
     "output_type": "stream",
     "text": [
      "/usr/local/lib/python3.8/dist-packages/gym-0.15.7-py3.8.egg/gym/logger.py:30: UserWarning: \u001b[33mWARN: Box bound precision lowered by casting to float32\u001b[0m\n",
      "  warnings.warn(colorize('%s: %s'%('WARN', msg % args), 'yellow'))\n"
     ]
    },
    {
     "name": "stdout",
     "output_type": "stream",
     "text": [
      "\n",
      "v4_REACHER_PANDA_hl_gym_dock_1_dlppoh_dock_15147 create REACHER_PANDA\n"
     ]
    },
    {
     "name": "stderr",
     "output_type": "stream",
     "text": [
      "/usr/local/lib/python3.8/dist-packages/gym-0.15.7-py3.8.egg/gym/logger.py:30: UserWarning: \u001b[33mWARN: Box bound precision lowered by casting to float32\u001b[0m\n",
      "  warnings.warn(colorize('%s: %s'%('WARN', msg % args), 'yellow'))\n"
     ]
    },
    {
     "name": "stdout",
     "output_type": "stream",
     "text": [
      "v4_REACHER_PANDA_hl_gym_dock_2_dlppoh_dock_15147 create REACHER_PANDA\n"
     ]
    },
    {
     "name": "stderr",
     "output_type": "stream",
     "text": [
      "/usr/local/lib/python3.8/dist-packages/gym-0.15.7-py3.8.egg/gym/logger.py:30: UserWarning: \u001b[33mWARN: Box bound precision lowered by casting to float32\u001b[0m\n",
      "  warnings.warn(colorize('%s: %s'%('WARN', msg % args), 'yellow'))\n"
     ]
    },
    {
     "name": "stdout",
     "output_type": "stream",
     "text": [
      "v4_REACHER_PANDA_hl_gym_dock_3_dlppoh_dock_15147 create REACHER_PANDA\n"
     ]
    },
    {
     "name": "stderr",
     "output_type": "stream",
     "text": [
      "/usr/local/lib/python3.8/dist-packages/gym-0.15.7-py3.8.egg/gym/logger.py:30: UserWarning: \u001b[33mWARN: Box bound precision lowered by casting to float32\u001b[0m\n",
      "  warnings.warn(colorize('%s: %s'%('WARN', msg % args), 'yellow'))\n"
     ]
    },
    {
     "name": "stdout",
     "output_type": "stream",
     "text": [
      "v4_REACHER_PANDA_hl_gym_dock_4_dlppoh_dock_15147 create REACHER_PANDA\n"
     ]
    },
    {
     "name": "stderr",
     "output_type": "stream",
     "text": [
      "/usr/local/lib/python3.8/dist-packages/gym-0.15.7-py3.8.egg/gym/logger.py:30: UserWarning: \u001b[33mWARN: Box bound precision lowered by casting to float32\u001b[0m\n",
      "  warnings.warn(colorize('%s: %s'%('WARN', msg % args), 'yellow'))\n"
     ]
    },
    {
     "name": "stdout",
     "output_type": "stream",
     "text": [
      "gyms loaded\n"
     ]
    },
    {
     "name": "stderr",
     "output_type": "stream",
     "text": [
      "/usr/local/lib/python3.8/dist-packages/gym-0.15.7-py3.8.egg/gym/logger.py:30: UserWarning: \u001b[33mWARN: Box bound precision lowered by casting to float32\u001b[0m\n",
      "  warnings.warn(colorize('%s: %s'%('WARN', msg % args), 'yellow'))\n"
     ]
    },
    {
     "name": "stdout",
     "output_type": "stream",
     "text": [
      "TRY TO RESET\n",
      "v4_REACHER_PANDA_hl_gym_dock_0_dlppoh_dock_15147 reset /w seed  0\n",
      "v4_REACHER_PANDA_hl_gym_dock_1_dlppoh_dock_15147 reset /w seed  1\n",
      "v4_REACHER_PANDA_hl_gym_dock_2_dlppoh_dock_15147 reset /w seed  2\n",
      "v4_REACHER_PANDA_hl_gym_dock_3_dlppoh_dock_15147 reset /w seed  3\n",
      "v4_REACHER_PANDA_hl_gym_dock_4_dlppoh_dock_15147 reset /w seed  4\n",
      "[    1>    40:: 0] steps =   40, max_step =   0/ 40, reward=-38.000000 <action=tensor([ 0.7144, -0.3200,  0.8901])...>                    \n",
      " PUSH  5 5\n",
      "WE ARE HERE TO RESET\n",
      "\n",
      " ep selection ---> 5\n",
      "DO FINISH\n",
      "DO FINISH\n",
      "\n",
      " PUSH  5 5\n",
      "DO FINISH\n",
      "TRY TO RESET\n",
      "v4_REACHER_PANDA_hl_gym_dock_0_dlppoh_dock_15147 reset /w seed  100\n",
      "v4_REACHER_PANDA_hl_gym_dock_1_dlppoh_dock_15147 reset /w seed  101\n",
      "v4_REACHER_PANDA_hl_gym_dock_2_dlppoh_dock_15147 reset /w seed  102\n",
      "v4_REACHER_PANDA_hl_gym_dock_3_dlppoh_dock_15147 reset /w seed  103\n",
      "v4_REACHER_PANDA_hl_gym_dock_4_dlppoh_dock_15147 reset /w seed  104\n",
      "[    2>    81:: 0] steps =   40, max_step =  41/ 40, reward=-39.000000 <action=tensor([ 0.2080, -0.4994, -0.1340])...>                    \n",
      " PUSH  5 5\n",
      "WE ARE HERE TO RESET\n",
      "\n",
      " ep selection ---> 5\n",
      "DO FINISH\n",
      "DO FINISH\n",
      "\n",
      " PUSH  5 5\n",
      "DO FINISH\n",
      "TRY TO RESET\n",
      "v4_REACHER_PANDA_hl_gym_dock_0_dlppoh_dock_15147 reset /w seed  200\n",
      "v4_REACHER_PANDA_hl_gym_dock_1_dlppoh_dock_15147 reset /w seed  201\n",
      "v4_REACHER_PANDA_hl_gym_dock_2_dlppoh_dock_15147 reset /w seed  202\n",
      "v4_REACHER_PANDA_hl_gym_dock_3_dlppoh_dock_15147 reset /w seed  203\n",
      "v4_REACHER_PANDA_hl_gym_dock_4_dlppoh_dock_15147 reset /w seed  204\n",
      "[    3>   122:: 0] steps =   40, max_step =  41/ 40, reward=-39.000000 <action=tensor([ 0.0580, -0.3928, -0.1456])...>                    \n",
      " PUSH  5 5\n",
      "WE ARE HERE TO RESET\n",
      "\n",
      " ep selection ---> 5\n",
      "DO FINISH\n",
      "DO FINISH\n",
      "\n",
      " PUSH  5 5\n",
      "DO FINISH\n",
      "TRY TO RESET\n",
      "v4_REACHER_PANDA_hl_gym_dock_0_dlppoh_dock_15147 reset /w seed  300\n",
      "v4_REACHER_PANDA_hl_gym_dock_1_dlppoh_dock_15147 reset /w seed  301\n",
      "v4_REACHER_PANDA_hl_gym_dock_2_dlppoh_dock_15147 reset /w seed  302\n",
      "v4_REACHER_PANDA_hl_gym_dock_3_dlppoh_dock_15147 reset /w seed  303\n",
      "v4_REACHER_PANDA_hl_gym_dock_4_dlppoh_dock_15147 reset /w seed  304\n",
      "[    4>   139:: 0] steps =   16, max_step =  41/ 40, reward=-14.800000 <action=tensor([0.3288, 0.1447, 0.7538])...>                                  we are done here maybe\n"
     ]
    },
    {
     "name": "stderr",
     "output_type": "stream",
     "text": [
      "Process v4_REACHER_PANDA_hl_gym_dock_0_dlppoh_dock_15147:\n",
      "/home/rezer0/.local/lib/python3.8/site-packages/pytorch_lightning/trainer/trainer.py:895: UserWarning: Detected KeyboardInterrupt, attempting graceful shutdown...\n",
      "  rank_zero_warn('Detected KeyboardInterrupt, attempting graceful shutdown...')\n",
      "Process v4_REACHER_PANDA_hl_gym_dock_1_dlppoh_dock_15147:\n",
      "Process v4_REACHER_PANDA_hl_gym_dock_4_dlppoh_dock_15147:\n",
      "Traceback (most recent call last):\n",
      "Traceback (most recent call last):\n",
      "Process v4_REACHER_PANDA_hl_gym_dock_3_dlppoh_dock_15147:\n",
      "  File \"/usr/lib/python3.8/multiprocessing/process.py\", line 315, in _bootstrap\n",
      "    self.run()\n",
      "Process v4_REACHER_PANDA_hl_gym_dock_2_dlppoh_dock_15147:\n",
      "Traceback (most recent call last):\n",
      "  File \"/home/rezer0/projects/v5opt/tasks/oaiproc.py\", line 66, in run\n",
      "    data = self.query.get()\n",
      "Traceback (most recent call last):\n",
      "Traceback (most recent call last):\n",
      "  File \"/home/rezer0/projects/v5opt/tasks/oaiproc.py\", line 66, in run\n",
      "    data = self.query.get()\n",
      "  File \"/usr/lib/python3.8/multiprocessing/process.py\", line 315, in _bootstrap\n",
      "    self.run()\n",
      "  File \"/usr/lib/python3.8/multiprocessing/process.py\", line 315, in _bootstrap\n",
      "    self.run()\n",
      "  File \"/usr/lib/python3.8/multiprocessing/process.py\", line 315, in _bootstrap\n",
      "    self.run()\n",
      "  File \"/usr/lib/python3.8/multiprocessing/process.py\", line 315, in _bootstrap\n",
      "    self.run()\n",
      "  File \"/home/rezer0/projects/v5opt/tasks/oaiproc.py\", line 66, in run\n",
      "    data = self.query.get()\n",
      "  File \"/usr/lib/python3.8/multiprocessing/queues.py\", line 97, in get\n",
      "    res = self._recv_bytes()\n",
      "  File \"/usr/lib/python3.8/multiprocessing/queues.py\", line 97, in get\n",
      "    res = self._recv_bytes()\n",
      "  File \"/usr/lib/python3.8/multiprocessing/connection.py\", line 216, in recv_bytes\n",
      "    buf = self._recv_bytes(maxlength)\n",
      "  File \"/usr/lib/python3.8/multiprocessing/connection.py\", line 216, in recv_bytes\n",
      "    buf = self._recv_bytes(maxlength)\n",
      "  File \"/home/rezer0/projects/v5opt/tasks/oaiproc.py\", line 66, in run\n",
      "    data = self.query.get()\n",
      "KeyboardInterrupt\n",
      "  File \"/usr/lib/python3.8/multiprocessing/connection.py\", line 414, in _recv_bytes\n",
      "    buf = self._recv(4)\n",
      "  File \"/usr/lib/python3.8/multiprocessing/connection.py\", line 414, in _recv_bytes\n",
      "    buf = self._recv(4)\n",
      "  File \"/usr/lib/python3.8/multiprocessing/queues.py\", line 97, in get\n",
      "    res = self._recv_bytes()\n",
      "  File \"/usr/lib/python3.8/multiprocessing/connection.py\", line 379, in _recv\n",
      "    chunk = read(handle, remaining)\n",
      "  File \"/usr/lib/python3.8/multiprocessing/queues.py\", line 97, in get\n",
      "    res = self._recv_bytes()\n",
      "  File \"/home/rezer0/projects/v5opt/tasks/oaiproc.py\", line 66, in run\n",
      "    data = self.query.get()\n",
      "KeyboardInterrupt\n",
      "  File \"/usr/lib/python3.8/multiprocessing/connection.py\", line 379, in _recv\n",
      "    chunk = read(handle, remaining)\n",
      "  File \"/usr/lib/python3.8/multiprocessing/connection.py\", line 216, in recv_bytes\n",
      "    buf = self._recv_bytes(maxlength)\n",
      "  File \"/usr/lib/python3.8/multiprocessing/queues.py\", line 97, in get\n",
      "    res = self._recv_bytes()\n",
      "  File \"/usr/lib/python3.8/multiprocessing/connection.py\", line 216, in recv_bytes\n",
      "    buf = self._recv_bytes(maxlength)\n",
      "  File \"/usr/lib/python3.8/multiprocessing/connection.py\", line 414, in _recv_bytes\n",
      "    buf = self._recv(4)\n",
      "  File \"/usr/lib/python3.8/multiprocessing/connection.py\", line 379, in _recv\n",
      "    chunk = read(handle, remaining)\n",
      "  File \"/usr/lib/python3.8/multiprocessing/connection.py\", line 414, in _recv_bytes\n",
      "    buf = self._recv(4)\n",
      "KeyboardInterrupt\n",
      "KeyboardInterrupt\n",
      "  File \"/usr/lib/python3.8/multiprocessing/connection.py\", line 379, in _recv\n",
      "    chunk = read(handle, remaining)\n",
      "  File \"/usr/lib/python3.8/multiprocessing/connection.py\", line 216, in recv_bytes\n",
      "    buf = self._recv_bytes(maxlength)\n",
      "  File \"/usr/lib/python3.8/multiprocessing/connection.py\", line 414, in _recv_bytes\n",
      "    buf = self._recv(4)\n",
      "  File \"/usr/lib/python3.8/multiprocessing/connection.py\", line 379, in _recv\n",
      "    chunk = read(handle, remaining)\n",
      "KeyboardInterrupt\n"
     ]
    }
   ],
   "source": [
    "import pytorch_lightning as pl\n",
    "\n",
    "if '__main__' == __name__:\n",
    "    fm = get_ready()\n",
    "    algo = DLPPOHLightning(fm)\n",
    "    \n",
    "    trainer = pl.Trainer(\n",
    "        gpus=0,\n",
    "        distributed_backend='dp',\n",
    "        num_processes=1,\n",
    "        max_epochs = 1000 * 100,\n",
    "    )\n",
    "\n",
    "    trainer.fit(algo)\n",
    "    \n",
    "    print(\"we are done here maybe\")"
   ]
  },
  {
   "cell_type": "code",
   "execution_count": 11,
   "metadata": {
    "id": "my1KUtx3FP8d",
    "scrolled": false
   },
   "outputs": [
    {
     "ename": "NameError",
     "evalue": "name 'env' is not defined",
     "output_type": "error",
     "traceback": [
      "\u001b[0;31m---------------------------------------------------------------------------\u001b[0m",
      "\u001b[0;31mNameError\u001b[0m                                 Traceback (most recent call last)",
      "\u001b[0;32m<ipython-input-11-d7a1ff29ef19>\u001b[0m in \u001b[0;36m<module>\u001b[0;34m\u001b[0m\n\u001b[0;32m----> 1\u001b[0;31m \u001b[0;32mfor\u001b[0m \u001b[0m_\u001b[0m \u001b[0;32min\u001b[0m \u001b[0menv\u001b[0m\u001b[0;34m.\u001b[0m\u001b[0mevaluate\u001b[0m\u001b[0;34m(\u001b[0m\u001b[0mtask\u001b[0m\u001b[0;34m,\u001b[0m \u001b[0;32mNone\u001b[0m\u001b[0;34m)\u001b[0m\u001b[0;34m:\u001b[0m\u001b[0;34m\u001b[0m\u001b[0;34m\u001b[0m\u001b[0m\n\u001b[0m\u001b[1;32m      2\u001b[0m     \u001b[0;32mpass\u001b[0m\u001b[0;34m\u001b[0m\u001b[0;34m\u001b[0m\u001b[0m\n",
      "\u001b[0;31mNameError\u001b[0m: name 'env' is not defined"
     ]
    }
   ],
   "source": [
    "for _ in env.evaluate(task, None):\n",
    "    pass"
   ]
  },
  {
   "cell_type": "code",
   "execution_count": null,
   "metadata": {
    "id": "pt968tU5FP8g"
   },
   "outputs": [],
   "source": []
  },
  {
   "cell_type": "code",
   "execution_count": null,
   "metadata": {
    "id": "-tWPC9qvFP8j"
   },
   "outputs": [],
   "source": []
  },
  {
   "cell_type": "code",
   "execution_count": null,
   "metadata": {},
   "outputs": [],
   "source": []
  },
  {
   "cell_type": "code",
   "execution_count": null,
   "metadata": {},
   "outputs": [],
   "source": []
  }
 ],
 "metadata": {
  "colab": {
   "collapsed_sections": [],
   "name": "dlppoh.ipynb",
   "provenance": [
    {
     "file_id": "https://github.com/rezer0dai/dlppoh/blob/master/dlppoh.ipynb",
     "timestamp": 1624563142378
    }
   ]
  },
  "kernelspec": {
   "display_name": "Python 3",
   "language": "python",
   "name": "python3"
  },
  "language_info": {
   "codemirror_mode": {
    "name": "ipython",
    "version": 3
   },
   "file_extension": ".py",
   "mimetype": "text/x-python",
   "name": "python",
   "nbconvert_exporter": "python",
   "pygments_lexer": "ipython3",
   "version": "3.8.10"
  }
 },
 "nbformat": 4,
 "nbformat_minor": 1
}
