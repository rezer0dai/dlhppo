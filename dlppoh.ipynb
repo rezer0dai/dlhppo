{
 "cells": [
  {
   "cell_type": "code",
   "execution_count": null,
   "metadata": {},
   "outputs": [],
   "source": []
  },
  {
   "cell_type": "code",
   "execution_count": 1,
   "metadata": {
    "executionInfo": {
     "elapsed": 458,
     "status": "ok",
     "timestamp": 1624585728025,
     "user": {
      "displayName": "Peter Hlavaty",
      "photoUrl": "",
      "userId": "07889617686998860112"
     },
     "user_tz": -120
    },
    "id": "enplmcsCp_ha"
   },
   "outputs": [],
   "source": [
    "#from google.colab import drive\n",
    "#drive.mount('/content/drive')"
   ]
  },
  {
   "cell_type": "code",
   "execution_count": 2,
   "metadata": {
    "colab": {
     "base_uri": "https://localhost:8080/"
    },
    "executionInfo": {
     "elapsed": 1228,
     "status": "ok",
     "timestamp": 1624585729775,
     "user": {
      "displayName": "Peter Hlavaty",
      "photoUrl": "",
      "userId": "07889617686998860112"
     },
     "user_tz": -120
    },
    "id": "RX0fHSr3HI_6",
    "outputId": "261416af-abee-4d49-e21d-b224b5916ac4"
   },
   "outputs": [],
   "source": [
    "#!git clone https://github.com/rezer0dai/dlppoh -b lightning\n",
    "#!git clone https://github.com/fgolemo/gym-ergojr\n",
    "#!git clone https://github.com/mahyaret/gym-panda\n",
    "\n",
    "#!pip install -e gym-ergojr\n",
    "#!pip install -e gym-panda\n",
    "#!pip install timebudget"
   ]
  },
  {
   "cell_type": "code",
   "execution_count": 3,
   "metadata": {
    "executionInfo": {
     "elapsed": 9,
     "status": "ok",
     "timestamp": 1624585729776,
     "user": {
      "displayName": "Peter Hlavaty",
      "photoUrl": "",
      "userId": "07889617686998860112"
     },
     "user_tz": -120
    },
    "id": "unEYPXkVJdGE"
   },
   "outputs": [],
   "source": [
    "#import sys\n",
    "#sys.path.append(\"dlppoh\")\n",
    "#sys.path.append(\"gym-ergojr\")\n",
    "#sys.path.append(\"gym-panda\")\n",
    "#sys.path.append(\"/content/dlppoh\")\n",
    "#sys.path.append(\"/content/gym-ergojr\")\n",
    "#sys.path.append(\"/content/gym-panda\")"
   ]
  },
  {
   "cell_type": "code",
   "execution_count": 4,
   "metadata": {
    "executionInfo": {
     "elapsed": 465,
     "status": "ok",
     "timestamp": 1624585730234,
     "user": {
      "displayName": "Peter Hlavaty",
      "photoUrl": "",
      "userId": "07889617686998860112"
     },
     "user_tz": -120
    },
    "id": "yrsg1IhfFP7p"
   },
   "outputs": [
    {
     "data": {
      "text/plain": [
       "<torch.autograd.anomaly_mode.set_detect_anomaly at 0x7fe19848e3d0>"
      ]
     },
     "execution_count": 4,
     "metadata": {},
     "output_type": "execute_result"
    }
   ],
   "source": [
    "import torch\n",
    "torch.set_default_dtype(torch.float32)\n",
    "torch.autograd.set_detect_anomaly(True)"
   ]
  },
  {
   "cell_type": "code",
   "execution_count": 5,
   "metadata": {
    "executionInfo": {
     "elapsed": 24,
     "status": "ok",
     "timestamp": 1624585730241,
     "user": {
      "displayName": "Peter Hlavaty",
      "photoUrl": "",
      "userId": "07889617686998860112"
     },
     "user_tz": -120
    },
    "id": "pucIFKuNFP8A"
   },
   "outputs": [],
   "source": [
    "import timebudget\n",
    "timebudget.set_quiet()"
   ]
  },
  {
   "cell_type": "code",
   "execution_count": 6,
   "metadata": {
    "colab": {
     "base_uri": "https://localhost:8080/"
    },
    "id": "mS6swup7FP8X",
    "outputId": "363fab3d-baf9-4268-c901-9c60006dddbc",
    "scrolled": true
   },
   "outputs": [
    {
     "name": "stderr",
     "output_type": "stream",
     "text": [
      "/home/rezer0/.local/lib/python3.8/site-packages/pytorch_lightning/metrics/__init__.py:43: LightningDeprecationWarning: `pytorch_lightning.metrics.*` module has been renamed to `torchmetrics.*` and split off to its own package (https://github.com/PyTorchLightning/metrics) since v1.3 and will be removed in v1.5\n",
      "  rank_zero_deprecation(\n"
     ]
    }
   ],
   "source": [
    "from lightning import get_ready, DLPPOHLightning"
   ]
  },
  {
   "cell_type": "code",
   "execution_count": null,
   "metadata": {},
   "outputs": [
    {
     "name": "stderr",
     "output_type": "stream",
     "text": [
      "/usr/local/lib/python3.8/dist-packages/gym-0.15.7-py3.8.egg/gym/logger.py:30: UserWarning: \u001b[33mWARN: Box bound precision lowered by casting to float32\u001b[0m\n",
      "  warnings.warn(colorize('%s: %s'%('WARN', msg % args), 'yellow'))\n"
     ]
    },
    {
     "name": "stdout",
     "output_type": "stream",
     "text": [
      "\n",
      "LOW LEVEL POLICY: \n",
      " [[82, '<- memory_size;', 1024, '<- batch_size;', 10, '<- optim_epochs;', 2048, '<- optim_batch_size;', 1600, '<- optim_pool_size;', 7, '<- recalc_delay;', 3, '<- sync_delta_a;', 2, '<- sync_delta_c;', 10, '<- learning_delay;', 10, '<- learning_repeat;', 0.0003, '<- lr_actor;', 0.05, '<- tau_actor;', 0.05, '<- tau_critic;', 0.2, '<- ppo_eps;', False, '<- natural;', False, '<- mean_only;']]\n",
      "appended module actor_0_explorer_lowpi 0\n",
      "appended module critic_0_explorer_lowpi 1\n",
      "appended module critic_1_explorer_lowpi 2\n",
      "appended module encoder_explorer_lowpi 3\n",
      "appended module goal_encoder_explorer_lowpi 4\n",
      "appended module actor_0_target_lowpi 5\n",
      "appended module critic_0_target_lowpi 6\n",
      "appended module encoder_target_lowpi 7\n",
      "appended module goal_encoder_target_lowpi 8\n",
      "\n",
      "HIGH LEVEL: \n",
      " [[80, '<- memory_size;', 4096, '<- batch_size;', 10, '<- optim_epochs;', 8192, '<- optim_batch_size;', 1600, '<- optim_pool_size;', 3, '<- recalc_delay;', 3, '<- sync_delta_a;', 2, '<- sync_delta_c;', 40, '<- learning_delay;', 80, '<- learning_repeat;', 0.0001, '<- lr_actor;', 0.07, '<- tau_actor;', 0.05, '<- tau_critic;', 0.2, '<- ppo_eps;', False, '<- natural;', False, '<- mean_only;']]\n",
      "appended module actor_0_explorer_highpi 9\n",
      "appended module encoder_explorer_highpi 10\n",
      "appended module goal_encoder_explorer_highpi 11\n",
      "appended module actor_0_target_highpi 12\n",
      "appended module encoder_target_highpi 13\n",
      "appended module goal_encoder_target_highpi 14\n"
     ]
    }
   ],
   "source": [
    "import pytorch_lightning as pl\n",
    "\n",
    "if '__main__' == __name__:\n",
    "    fm = get_ready()\n",
    "    algo = DLPPOHLightning(fm)\n",
    "    \n",
    "    trainer = pl.Trainer(\n",
    "        gpus=0,\n",
    "        distributed_backend='dp',\n",
    "        num_processes=1,\n",
    "        max_epochs = 1000 * 100,\n",
    "    )\n",
    "\n",
    "    trainer.fit(algo)\n",
    "    \n",
    "    print(\"we are done here maybe\")"
   ]
  },
  {
   "cell_type": "code",
   "execution_count": null,
   "metadata": {
    "id": "my1KUtx3FP8d",
    "scrolled": false
   },
   "outputs": [],
   "source": [
    "for _ in env.evaluate(task, None):\n",
    "    pass"
   ]
  },
  {
   "cell_type": "code",
   "execution_count": null,
   "metadata": {
    "id": "pt968tU5FP8g"
   },
   "outputs": [],
   "source": []
  },
  {
   "cell_type": "code",
   "execution_count": null,
   "metadata": {
    "id": "-tWPC9qvFP8j"
   },
   "outputs": [],
   "source": []
  },
  {
   "cell_type": "code",
   "execution_count": null,
   "metadata": {},
   "outputs": [],
   "source": []
  },
  {
   "cell_type": "code",
   "execution_count": null,
   "metadata": {},
   "outputs": [],
   "source": []
  }
 ],
 "metadata": {
  "colab": {
   "collapsed_sections": [],
   "name": "dlppoh.ipynb",
   "provenance": [
    {
     "file_id": "https://github.com/rezer0dai/dlppoh/blob/master/dlppoh.ipynb",
     "timestamp": 1624563142378
    }
   ]
  },
  "kernelspec": {
   "display_name": "Python 3",
   "language": "python",
   "name": "python3"
  },
  "language_info": {
   "codemirror_mode": {
    "name": "ipython",
    "version": 3
   },
   "file_extension": ".py",
   "mimetype": "text/x-python",
   "name": "python",
   "nbconvert_exporter": "python",
   "pygments_lexer": "ipython3",
   "version": "3.8.10"
  }
 },
 "nbformat": 4,
 "nbformat_minor": 1
}
